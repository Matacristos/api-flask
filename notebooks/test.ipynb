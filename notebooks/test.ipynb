{
 "cells": [
  {
   "cell_type": "code",
   "execution_count": 4,
   "metadata": {},
   "outputs": [],
   "source": [
    "import sys\n",
    "import os\n",
    "from tensorflow import keras\n",
    "\n",
    "sys.path.append(os.getcwd().split('/notebooks')[0])\n",
    "sys.path.append(os.getcwd().split('/notebooks')[0] + '/src')\n",
    "\n",
    "from src.model import get_model\n",
    "from src.train import train\n",
    "from src.predict import predict\n",
    "\n",
    "PATH_MODEL = '../models/model.h5'\n",
    "PATH_CSV = '../data/bitcoin.csv'"
   ]
  },
  {
   "cell_type": "code",
   "execution_count": 2,
   "metadata": {},
   "outputs": [
    {
     "name": "stdout",
     "output_type": "stream",
     "text": [
      "Epoch 1/50\n",
      "654/654 [==============================] - 10s 16ms/step - loss: 0.0320\n",
      "Epoch 2/50\n",
      "654/654 [==============================] - 10s 16ms/step - loss: 0.0264\n",
      "Epoch 3/50\n",
      "654/654 [==============================] - 10s 15ms/step - loss: 0.0240\n",
      "Epoch 4/50\n",
      "654/654 [==============================] - 10s 15ms/step - loss: 0.0221\n",
      "Epoch 5/50\n",
      "654/654 [==============================] - 10s 15ms/step - loss: 0.0207\n",
      "Epoch 6/50\n",
      "654/654 [==============================] - 10s 15ms/step - loss: 0.0193\n",
      "Epoch 7/50\n",
      "654/654 [==============================] - 10s 15ms/step - loss: 0.0185\n",
      "Epoch 8/50\n",
      "654/654 [==============================] - 10s 15ms/step - loss: 0.0171\n",
      "Epoch 9/50\n",
      "654/654 [==============================] - 10s 15ms/step - loss: 0.0170\n",
      "Epoch 10/50\n",
      "654/654 [==============================] - 10s 16ms/step - loss: 0.0163\n",
      "Epoch 11/50\n",
      "654/654 [==============================] - 11s 16ms/step - loss: 0.0151\n",
      "Epoch 12/50\n",
      "654/654 [==============================] - 11s 17ms/step - loss: 0.0151\n",
      "Epoch 13/50\n",
      "654/654 [==============================] - 11s 16ms/step - loss: 0.0146\n",
      "Epoch 14/50\n",
      "654/654 [==============================] - 11s 16ms/step - loss: 0.0139\n",
      "Epoch 15/50\n",
      "654/654 [==============================] - 10s 16ms/step - loss: 0.0137\n",
      "Epoch 16/50\n",
      "654/654 [==============================] - 10s 15ms/step - loss: 0.0127\n",
      "Epoch 17/50\n",
      "654/654 [==============================] - 11s 16ms/step - loss: 0.0128\n",
      "Epoch 18/50\n",
      "654/654 [==============================] - 10s 16ms/step - loss: 0.0123\n",
      "Epoch 19/50\n",
      "654/654 [==============================] - 10s 16ms/step - loss: 0.0122\n",
      "Epoch 20/50\n",
      "654/654 [==============================] - 10s 16ms/step - loss: 0.0119\n",
      "Epoch 21/50\n",
      "654/654 [==============================] - 10s 16ms/step - loss: 0.0112\n",
      "Epoch 22/50\n",
      "654/654 [==============================] - 10s 16ms/step - loss: 0.0106\n",
      "Epoch 23/50\n",
      "654/654 [==============================] - 10s 16ms/step - loss: 0.0104\n",
      "Epoch 24/50\n",
      "654/654 [==============================] - 10s 16ms/step - loss: 0.0097\n",
      "Epoch 25/50\n",
      "654/654 [==============================] - 10s 15ms/step - loss: 0.0095\n",
      "Epoch 26/50\n",
      "654/654 [==============================] - 10s 15ms/step - loss: 0.0094\n",
      "Epoch 27/50\n",
      "654/654 [==============================] - 10s 15ms/step - loss: 0.0089\n",
      "Epoch 28/50\n",
      "654/654 [==============================] - 10s 16ms/step - loss: 0.0085\n",
      "Epoch 29/50\n",
      "654/654 [==============================] - 10s 16ms/step - loss: 0.0080\n",
      "Epoch 30/50\n",
      "654/654 [==============================] - 11s 16ms/step - loss: 0.0075\n",
      "Epoch 31/50\n",
      "654/654 [==============================] - 10s 16ms/step - loss: 0.0071\n",
      "Epoch 32/50\n",
      "654/654 [==============================] - 11s 16ms/step - loss: 0.0070\n",
      "Epoch 33/50\n",
      "654/654 [==============================] - 11s 17ms/step - loss: 0.0067\n",
      "Epoch 34/50\n",
      "654/654 [==============================] - 10s 16ms/step - loss: 0.0062\n",
      "Epoch 35/50\n",
      "654/654 [==============================] - 11s 16ms/step - loss: 0.0058\n",
      "Epoch 36/50\n",
      "654/654 [==============================] - 10s 16ms/step - loss: 0.0055\n",
      "Epoch 37/50\n",
      "654/654 [==============================] - 10s 16ms/step - loss: 0.0053\n",
      "Epoch 38/50\n",
      "654/654 [==============================] - 10s 16ms/step - loss: 0.0050\n",
      "Epoch 39/50\n",
      "654/654 [==============================] - 10s 16ms/step - loss: 0.0048\n",
      "Epoch 40/50\n",
      "654/654 [==============================] - 10s 16ms/step - loss: 0.0044\n",
      "Epoch 41/50\n",
      "654/654 [==============================] - 10s 15ms/step - loss: 0.0042\n",
      "Epoch 42/50\n",
      "654/654 [==============================] - 10s 16ms/step - loss: 0.0040\n",
      "Epoch 43/50\n",
      "654/654 [==============================] - 10s 15ms/step - loss: 0.0038\n",
      "Epoch 44/50\n",
      "654/654 [==============================] - 10s 15ms/step - loss: 0.0034\n",
      "Epoch 45/50\n",
      "654/654 [==============================] - 10s 15ms/step - loss: 0.0034\n",
      "Epoch 46/50\n",
      "654/654 [==============================] - 10s 15ms/step - loss: 0.0031\n",
      "Epoch 47/50\n",
      "654/654 [==============================] - 10s 15ms/step - loss: 0.0030\n",
      "Epoch 48/50\n",
      "654/654 [==============================] - 10s 15ms/step - loss: 0.0029\n",
      "Epoch 49/50\n",
      "654/654 [==============================] - 10s 15ms/step - loss: 0.0027\n",
      "Epoch 50/50\n",
      "654/654 [==============================] - 10s 16ms/step - loss: 0.0026\n"
     ]
    }
   ],
   "source": [
    "model = get_model()\n",
    "loss, val_loss = train(PATH_CSV, model, num_epochs=50)\n",
    "model.save(PATH_MODEL)"
   ]
  },
  {
   "cell_type": "code",
   "execution_count": 5,
   "metadata": {},
   "outputs": [
    {
     "name": "stdout",
     "output_type": "stream",
     "text": [
      "(120, 50, 1)\n",
      "(70, 1)\n"
     ]
    },
    {
     "data": {
      "image/png": "[encoded data removed]",
      "text/plain": [
       "<Figure size 432x288 with 1 Axes>"
      ]
     },
     "metadata": {
      "needs_background": "light"
     },
     "output_type": "display_data"
    }
   ],
   "source": [
    "PATH_MODEL = '../models/model.h5'\n",
    "#model.save(PATH_MODEL)\n",
    "#from keras.models import load_model\n",
    "\n",
    "#model = load_model(PATH_MODEL)\n",
    "predict(PATH_CSV, model, future_target=0)"
   ]
  },
  {
   "cell_type": "code",
   "execution_count": null,
   "metadata": {},
   "outputs": [],
   "source": []
  }
 ],
 "metadata": {
  "kernelspec": {
   "display_name": "poc",
   "language": "python",
   "name": "poc"
  },
  "language_info": {
   "codemirror_mode": {
    "name": "ipython",
    "version": 3
   },
   "file_extension": ".py",
   "mimetype": "text/x-python",
   "name": "python",
   "nbconvert_exporter": "python",
   "pygments_lexer": "ipython3",
   "version": "3.7.7"
  }
 },
 "nbformat": 4,
 "nbformat_minor": 4
}
